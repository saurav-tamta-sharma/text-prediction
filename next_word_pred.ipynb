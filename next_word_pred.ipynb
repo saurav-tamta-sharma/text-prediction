{
 "cells": [
  {
   "cell_type": "code",
   "execution_count": 2,
   "id": "a4b9df7e-6287-47f5-988e-15a61c4c8775",
   "metadata": {},
   "outputs": [
    {
     "name": "stdin",
     "output_type": "stream",
     "text": [
      "Enter a phrase (or 'exit' to stop):  hlo i am\n"
     ]
    },
    {
     "name": "stdout",
     "output_type": "stream",
     "text": [
      "1/1 [==============================] - 1s 802ms/step\n",
      "Predicted Next Word: astonished\n"
     ]
    },
    {
     "name": "stdin",
     "output_type": "stream",
     "text": [
      "Enter a phrase (or 'exit' to stop):  my mother cooked\n"
     ]
    },
    {
     "name": "stdout",
     "output_type": "stream",
     "text": [
      "1/1 [==============================] - 0s 23ms/step\n",
      "Predicted Next Word: satisfaction\n"
     ]
    },
    {
     "name": "stdin",
     "output_type": "stream",
     "text": [
      "Enter a phrase (or 'exit' to stop):  i\n"
     ]
    },
    {
     "name": "stdout",
     "output_type": "stream",
     "text": [
      "1/1 [==============================] - 0s 25ms/step\n",
      "Predicted Next Word: sleep\n"
     ]
    },
    {
     "name": "stdin",
     "output_type": "stream",
     "text": [
      "Enter a phrase (or 'exit' to stop):  at\n"
     ]
    },
    {
     "name": "stdout",
     "output_type": "stream",
     "text": [
      "1/1 [==============================] - 0s 13ms/step\n",
      "Predicted Next Word: dull\n"
     ]
    },
    {
     "name": "stdin",
     "output_type": "stream",
     "text": [
      "Enter a phrase (or 'exit' to stop):  i sleep at\n"
     ]
    },
    {
     "name": "stdout",
     "output_type": "stream",
     "text": [
      "1/1 [==============================] - 0s 25ms/step\n",
      "Predicted Next Word: dull\n"
     ]
    },
    {
     "name": "stdin",
     "output_type": "stream",
     "text": [
      "Enter a phrase (or 'exit' to stop):  i sleep at night\n"
     ]
    },
    {
     "name": "stdout",
     "output_type": "stream",
     "text": [
      "1/1 [==============================] - 0s 24ms/step\n",
      "Predicted Next Word: home\n"
     ]
    },
    {
     "name": "stdin",
     "output_type": "stream",
     "text": [
      "Enter a phrase (or 'exit' to stop):  exit\n"
     ]
    },
    {
     "name": "stdout",
     "output_type": "stream",
     "text": [
      "Exiting the program...\n"
     ]
    }
   ],
   "source": [
    "from tensorflow.keras.models import load_model\n",
    "import pickle\n",
    "import numpy as np\n",
    "# Load the trained model and tokenizer\n",
    "model = load_model('nextword1.h5')\n",
    "tokenizer = pickle.load(open('tokenizer1.pkl', 'rb'))\n",
    "\n",
    "def predict_next_word(model, tokenizer, input_text):\n",
    "    sequence = tokenizer.texts_to_sequences([input_text])[0]\n",
    "    sequence = np.array(sequence)\n",
    "\n",
    "    # Predict the next word\n",
    "    preds = model.predict(sequence.reshape(1, -1, 1))\n",
    "    predicted_word_index = np.argmax(preds)\n",
    "\n",
    "    # Convert the predicted word index back to the word using the tokenizer\n",
    "    predicted_word = \"\"\n",
    "    for word, index in tokenizer.word_index.items():\n",
    "        if index == predicted_word_index:\n",
    "            predicted_word = word\n",
    "            break\n",
    "\n",
    "    return predicted_word\n",
    "\n",
    "# User input loop\n",
    "while True:\n",
    "    try:\n",
    "        user_input = input(\"Enter a phrase (or 'exit' to stop): \")\n",
    "\n",
    "        if user_input.lower() == 'exit':\n",
    "            print(\"Exiting the program...\")\n",
    "            break\n",
    "\n",
    "        # Use the last word of the input as the seed for prediction\n",
    "        last_word = user_input.strip().split()[-1]\n",
    "        predicted_word = predict_next_word(model, tokenizer, last_word)\n",
    "\n",
    "        print(\"Predicted Next Word:\", predicted_word)\n",
    "\n",
    "    except Exception as e:\n",
    "        print(f\"An error occurred: {e}\")\n",
    "        continue\n"
   ]
  },
  {
   "cell_type": "code",
   "execution_count": null,
   "id": "6ce124c6-e554-4026-a539-65e852312078",
   "metadata": {},
   "outputs": [],
   "source": []
  }
 ],
 "metadata": {
  "kernelspec": {
   "display_name": "Python 3 (ipykernel)",
   "language": "python",
   "name": "python3"
  },
  "language_info": {
   "codemirror_mode": {
    "name": "ipython",
    "version": 3
   },
   "file_extension": ".py",
   "mimetype": "text/x-python",
   "name": "python",
   "nbconvert_exporter": "python",
   "pygments_lexer": "ipython3",
   "version": "3.10.10"
  }
 },
 "nbformat": 4,
 "nbformat_minor": 5
}
